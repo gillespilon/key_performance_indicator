{
 "cells": [
  {
   "cell_type": "markdown",
   "metadata": {},
   "source": [
    "# Commits background work\n",
    "\n",
    "I am restarting this whole script in order to build up piece-by-piece for what I want. I am getting lost in the details of editing old code."
   ]
  },
  {
   "cell_type": "code",
   "execution_count": null,
   "metadata": {},
   "outputs": [],
   "source": [
    "import subprocess\n",
    "from os import path\n",
    "from dateutil.parser import parse as parsedate\n",
    "\n",
    "import pandas as pd"
   ]
  },
  {
   "cell_type": "code",
   "execution_count": null,
   "metadata": {},
   "outputs": [],
   "source": [
    "parameters = pd.read_csv('repositories.csv',\n",
    "                         index_col=False)\n",
    "parameters"
   ]
  },
  {
   "cell_type": "code",
   "execution_count": null,
   "metadata": {},
   "outputs": [],
   "source": [
    "repository_path = parameters['Repository path']\n",
    "repository_path"
   ]
  },
  {
   "cell_type": "code",
   "execution_count": null,
   "metadata": {
    "scrolled": false
   },
   "outputs": [],
   "source": [
    "df = []\n",
    "def dataframes(repository_path):\n",
    "    '''\n",
    "    Create a dataframe with count column for each repository.\n",
    "    '''\n",
    "    history = subprocess.check_output(\n",
    "        ['git', 'log', '--pretty=%aI', '--author=Gilles'], \n",
    "        cwd=path.expanduser(f'~/documents/websites/{repository_path}'),\n",
    "        universal_newlines=True).splitlines()\n",
    "    dates = list(map(parsedate, history))\n",
    "    df = pd.DataFrame.from_dict({'Date': dates},\n",
    "                                dtype='datetime64[ns]')\\\n",
    "                     .set_index('Date')\n",
    "    df['count'] = 1\n",
    "    commits_daily = df.groupby(df.index.date).count()\n",
    "    # commits_daily = commits_daily[-90:].reset_index()\n",
    "    commits_daily = commits_daily.reset_index()\\\n",
    "                                 .rename(columns={'index':'date'})\n",
    "    return commits_daily"
   ]
  },
  {
   "cell_type": "code",
   "execution_count": null,
   "metadata": {},
   "outputs": [],
   "source": [
    "for item in repository_path:\n",
    "    commits_daily = dataframes(item)\n",
    "    print(f'\\nrepository path: {item}\\n{commits_daily.tail()}')"
   ]
  },
  {
   "cell_type": "code",
   "execution_count": null,
   "metadata": {},
   "outputs": [],
   "source": [
    "dfa = pd.DataFrame({'date': ['2019-05-01', '2019-05-02', '2019-05-03',\n",
    "                             '2019-05-05', '2019-05-07'],\n",
    "                    'count': [1, 3, 5, 7, 9]})\n",
    "dfa"
   ]
  },
  {
   "cell_type": "code",
   "execution_count": null,
   "metadata": {},
   "outputs": [],
   "source": [
    "dfb = pd.DataFrame({'date': ['2019-04-30', '2019-05-01', '2019-05-04',\n",
    "                             '2019-05-06', '2019-05-07'],\n",
    "                    'count': [2, 4, 6, 8, 10]})\n",
    "dfb"
   ]
  },
  {
   "cell_type": "code",
   "execution_count": null,
   "metadata": {},
   "outputs": [],
   "source": [
    "dfc = pd.DataFrame({'date': ['2019-04-29', '2019-05-07'],\n",
    "                    'count': [3, 4]})\n",
    "dfc"
   ]
  },
  {
   "cell_type": "code",
   "execution_count": null,
   "metadata": {},
   "outputs": [],
   "source": [
    "df = pd.merge(dfa, dfb, how='outer', on='date')\\\n",
    "       .sort_values(by=['date'])\n",
    "df"
   ]
  },
  {
   "cell_type": "code",
   "execution_count": null,
   "metadata": {},
   "outputs": [],
   "source": [
    "df['count'] = df['count_x'].fillna(0) + df['count_y'].fillna(0)\n",
    "df = df.drop(columns=['count_x', 'count_y'])\n",
    "df"
   ]
  },
  {
   "cell_type": "code",
   "execution_count": null,
   "metadata": {},
   "outputs": [],
   "source": [
    "df = pd.merge(df, dfc, how='outer', on='date')\\\n",
    "       .sort_values(by=['date'])\n",
    "df"
   ]
  },
  {
   "cell_type": "code",
   "execution_count": null,
   "metadata": {},
   "outputs": [],
   "source": [
    "df['count'] = df['count_x'].fillna(0) + df['count_y'].fillna(0)\n",
    "df = df.drop(columns=['count_x', 'count_y'])\n",
    "df"
   ]
  }
 ],
 "metadata": {
  "kernelspec": {
   "display_name": "Python 3",
   "language": "python",
   "name": "python3"
  },
  "language_info": {
   "codemirror_mode": {
    "name": "ipython",
    "version": 3
   },
   "file_extension": ".py",
   "mimetype": "text/x-python",
   "name": "python",
   "nbconvert_exporter": "python",
   "pygments_lexer": "ipython3",
   "version": "3.7.3"
  }
 },
 "nbformat": 4,
 "nbformat_minor": 2
}
