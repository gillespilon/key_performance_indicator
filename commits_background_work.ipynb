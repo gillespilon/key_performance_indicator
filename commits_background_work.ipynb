{
 "cells": [
  {
   "cell_type": "markdown",
   "metadata": {},
   "source": [
    "# Commits background work\n",
    "\n",
    "I am restarting this whole script in order to build up piece-by-piece for what I want. I am getting lost in the details of editing old code."
   ]
  },
  {
   "cell_type": "code",
   "execution_count": null,
   "metadata": {},
   "outputs": [],
   "source": [
    "import subprocess\n",
    "from os import path\n",
    "from dateutil.parser import parse as parsedate\n",
    "\n",
    "import pandas as pd"
   ]
  },
  {
   "cell_type": "code",
   "execution_count": null,
   "metadata": {},
   "outputs": [],
   "source": [
    "# Read the file of desired repositories.\n",
    "parameters = pd.read_csv('repositories.csv',\n",
    "                         index_col=False)\n",
    "parameters"
   ]
  },
  {
   "cell_type": "code",
   "execution_count": null,
   "metadata": {},
   "outputs": [],
   "source": [
    "repository_path = parameters['Repository path']\n",
    "repository_path"
   ]
  },
  {
   "cell_type": "code",
   "execution_count": null,
   "metadata": {},
   "outputs": [],
   "source": [
    "justfornow = repository_path[0]\n",
    "justfornow"
   ]
  },
  {
   "cell_type": "code",
   "execution_count": null,
   "metadata": {
    "scrolled": false
   },
   "outputs": [],
   "source": [
    "# Create a dataframe for each repository.\n",
    "history = subprocess.check_output(\n",
    "    ['git', 'log', '--pretty=%aI', '--author=Gilles'], \n",
    "    cwd=path.expanduser(f'~/documents/websites/{justfornow}'),\n",
    "    universal_newlines=True).splitlines()\n",
    "type(history)"
   ]
  },
  {
   "cell_type": "code",
   "execution_count": null,
   "metadata": {},
   "outputs": [],
   "source": [
    "dates = list(map(parsedate, history))\n",
    "type(dates)"
   ]
  },
  {
   "cell_type": "code",
   "execution_count": null,
   "metadata": {},
   "outputs": [],
   "source": [
    "# print(f'~/documents/websites/{repository_path}')\n",
    "df = pd.DataFrame.from_dict({'Date': dates},\n",
    "                            dtype='datetime64[ns]') \\\n",
    "                            .set_index('Date')\n",
    "df.head()"
   ]
  },
  {
   "cell_type": "code",
   "execution_count": null,
   "metadata": {},
   "outputs": [],
   "source": [
    "# df.reset_index()\n",
    "df['count'] = 1\n",
    "df.head()"
   ]
  },
  {
   "cell_type": "code",
   "execution_count": null,
   "metadata": {
    "scrolled": false
   },
   "outputs": [],
   "source": [
    "# print(df)\n",
    "commits_daily = df.groupby(df.index.date).count()\n",
    "# commits_daily = commits_daily[-90:].reset_index()\n",
    "commits_daily = commits_daily.reset_index()\\\n",
    "                             .rename(columns={'index':'date'})\n",
    "commits_daily.head()\n",
    "# print(repository_path, commits_daily.tail())"
   ]
  },
  {
   "cell_type": "code",
   "execution_count": null,
   "metadata": {},
   "outputs": [],
   "source": [
    "commits_daily.shape"
   ]
  }
 ],
 "metadata": {
  "kernelspec": {
   "display_name": "Python 3",
   "language": "python",
   "name": "python3"
  },
  "language_info": {
   "codemirror_mode": {
    "name": "ipython",
    "version": 3
   },
   "file_extension": ".py",
   "mimetype": "text/x-python",
   "name": "python",
   "nbconvert_exporter": "python",
   "pygments_lexer": "ipython3",
   "version": "3.7.3"
  }
 },
 "nbformat": 4,
 "nbformat_minor": 2
}
