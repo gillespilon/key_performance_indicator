{
 "cells": [
  {
   "cell_type": "markdown",
   "metadata": {},
   "source": [
    "# Key Performance Indicators (KPIs)"
   ]
  },
  {
   "cell_type": "markdown",
   "metadata": {},
   "source": [
    "# In brevi\n",
    "\n",
    "Office workers create, update, and publish documents. Whether it's creating presentations, responding to emails, or doing statistical analysis, they are creating documents. Unlike a manufacturing environment, their output appears invisible to an observer of their work process. If such a worker were to commit their documents to a Git repository, they could make their work visible . These commits could then be reported as a key performance indicator (KPI)."
   ]
  },
  {
   "cell_type": "code",
   "execution_count": null,
   "metadata": {},
   "outputs": [],
   "source": [
    "# Start of time estimation for the notebook.\n",
    "from datetime import datetime\n",
    "start_time = datetime.now()"
   ]
  },
  {
   "cell_type": "code",
   "execution_count": null,
   "metadata": {},
   "outputs": [],
   "source": [
    "import subprocess\n",
    "from os import path\n",
    "from dateutil.parser import parse as parsedate\n",
    "# from datetime import datetime\n",
    "\n",
    "import pandas as pd\n",
    "import matplotlib.cm as cm\n",
    "import matplotlib.axes as axes"
   ]
  },
  {
   "cell_type": "code",
   "execution_count": null,
   "metadata": {},
   "outputs": [],
   "source": [
    "%matplotlib inline\n",
    "%config InlineBackend.figure_format = 'svg'"
   ]
  },
  {
   "cell_type": "code",
   "execution_count": null,
   "metadata": {},
   "outputs": [],
   "source": [
    "c = cm.Paired.colors\n",
    "# c[0] c[1] ... c[11]\n",
    "# See \"paired\" in \"qualitative colormaps\"\n",
    "# https://matplotlib.org/tutorials/colors/colormaps.html"
   ]
  },
  {
   "cell_type": "code",
   "execution_count": null,
   "metadata": {},
   "outputs": [],
   "source": [
    "title = 'Daily commits'\n",
    "ylabel = 'Number of commits'\n",
    "xlabel = 'Date'"
   ]
  },
  {
   "cell_type": "code",
   "execution_count": null,
   "metadata": {
    "scrolled": false
   },
   "outputs": [],
   "source": [
    "def dataframes(repository_path):\n",
    "    '''\n",
    "    Create a dataframe with count column for each repository.\n",
    "    '''\n",
    "    history = subprocess.check_output(\n",
    "        ['git', 'log', '--pretty=%aI', '--author=Gilles'], \n",
    "        cwd=path.expanduser(f'~/documents/websites/'\\\n",
    "                            f'{repository_path}'),\n",
    "        universal_newlines=True).splitlines()\n",
    "    dates = list(map(parsedate, history))\n",
    "    df = pd.DataFrame.from_dict({'Date': dates},\n",
    "                                dtype='datetime64[ns]')\\\n",
    "                     .set_index('Date')\n",
    "    df['count'] = 1\n",
    "    df = df.groupby(df.index.date).count()\n",
    "    df = df.reset_index().rename(columns={'index':'date'})\n",
    "    return df"
   ]
  },
  {
   "cell_type": "code",
   "execution_count": null,
   "metadata": {},
   "outputs": [],
   "source": [
    "def despine(ax: axes.Axes) -> None:\n",
    "    '''\n",
    "    Remove the top and right spines of a graph.\n",
    "    '''\n",
    "    for spine in 'right', 'top':\n",
    "        ax.spines[spine].set_color('none')"
   ]
  },
  {
   "cell_type": "code",
   "execution_count": null,
   "metadata": {},
   "outputs": [],
   "source": [
    "def plot_scatter(df, column_name):\n",
    "    '''\n",
    "    Scatter plot of column_name versus index.\n",
    "    '''\n",
    "    ax = df.plot.line(y=column_name, legend=False,\n",
    "                      style='.',\n",
    "                      color=c[0], rot=45)\n",
    "    ax.set_ylabel(column_name)\n",
    "    ax.set_xlabel('date')\n",
    "    ax.set_title(f'{title}',\n",
    "                 fontweight='bold')\n",
    "    ax.autoscale(tight=False)\n",
    "    ax.axhline(int(df[column_name].median()), color=c[1])\n",
    "    despine(ax)\n",
    "    ax.figure.savefig(f'commits_daily.svg', format='svg')"
   ]
  },
  {
   "cell_type": "code",
   "execution_count": null,
   "metadata": {},
   "outputs": [],
   "source": [
    "parameters = pd.read_csv('repositories.csv',index_col=False)\n",
    "repository_path = parameters['Repository path']"
   ]
  },
  {
   "cell_type": "code",
   "execution_count": null,
   "metadata": {},
   "outputs": [],
   "source": [
    "commits = pd.DataFrame(columns=['date', 'count'])\n",
    "for item in repository_path:\n",
    "    commits_item = dataframes(item)\n",
    "    commits = pd.merge(commits, commits_item,\n",
    "                       how='outer', on='date')\\\n",
    "                .sort_values(by=['date'])\n",
    "    commits['count'] = commits['count_x']\\\n",
    "                       .fillna(0) + commits['count_y']\\\n",
    "                       .fillna(0)\n",
    "    commits = commits.drop(columns=['count_x', 'count_y'])\n",
    "commits['date'] = pd.to_datetime(commits['date'])\n",
    "commits = commits[-30:].set_index('date')"
   ]
  },
  {
   "cell_type": "code",
   "execution_count": null,
   "metadata": {},
   "outputs": [],
   "source": [
    "plot_scatter(commits, 'count')"
   ]
  },
  {
   "cell_type": "code",
   "execution_count": null,
   "metadata": {},
   "outputs": [],
   "source": [
    "end_time = datetime.now()\n",
    "(end_time - start_time).total_seconds()"
   ]
  }
 ],
 "metadata": {
  "kernelspec": {
   "display_name": "Python 3",
   "language": "python",
   "name": "python3"
  },
  "language_info": {
   "codemirror_mode": {
    "name": "ipython",
    "version": 3
   },
   "file_extension": ".py",
   "mimetype": "text/x-python",
   "name": "python",
   "nbconvert_exporter": "python",
   "pygments_lexer": "ipython3",
   "version": "3.7.3"
  }
 },
 "nbformat": 4,
 "nbformat_minor": 2
}
