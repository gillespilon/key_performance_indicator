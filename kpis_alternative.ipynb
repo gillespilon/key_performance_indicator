{
 "cells": [
  {
   "cell_type": "code",
   "execution_count": 1,
   "metadata": {},
   "outputs": [],
   "source": [
    "%matplotlib inline\n",
    "%config InlineBacken.figure_format = 'svg'"
   ]
  },
  {
   "cell_type": "code",
   "execution_count": 2,
   "metadata": {},
   "outputs": [],
   "source": [
    "import subprocess"
   ]
  },
  {
   "cell_type": "code",
   "execution_count": 3,
   "metadata": {},
   "outputs": [],
   "source": [
    "author_dates = subprocess.check_output(['git', 'log', '--pretty=%aI'],\n",
    "                                       universal_newlines=True) \\\n",
    "                         .splitlines()"
   ]
  },
  {
   "cell_type": "code",
   "execution_count": 4,
   "metadata": {},
   "outputs": [],
   "source": [
    "from datetime import timezone\n",
    "import pandas as pd"
   ]
  },
  {
   "cell_type": "code",
   "execution_count": 5,
   "metadata": {},
   "outputs": [],
   "source": [
    "s = pd.Series([pd.to_datetime(aI).astimezone(timezone.utc)\n",
    "               for aI\n",
    "               in author_dates])"
   ]
  },
  {
   "cell_type": "code",
   "execution_count": 6,
   "metadata": {},
   "outputs": [
    {
     "data": {
      "text/plain": [
       "0   2019-05-17 14:48:38+00:00\n",
       "1   2019-05-17 14:47:28+00:00\n",
       "2   2019-05-17 14:46:43+00:00\n",
       "3   2019-05-17 02:33:49+00:00\n",
       "4   2019-05-15 20:33:09+00:00\n",
       "dtype: datetime64[ns, UTC]"
      ]
     },
     "execution_count": 6,
     "metadata": {},
     "output_type": "execute_result"
    }
   ],
   "source": [
    "s.head()"
   ]
  },
  {
   "cell_type": "code",
   "execution_count": 7,
   "metadata": {},
   "outputs": [
    {
     "data": {
      "text/plain": [
       "count                           135\n",
       "unique                          135\n",
       "top       2017-07-14 19:44:54+00:00\n",
       "freq                              1\n",
       "first     2017-07-12 19:54:07+00:00\n",
       "last      2019-05-17 14:48:38+00:00\n",
       "dtype: object"
      ]
     },
     "execution_count": 7,
     "metadata": {},
     "output_type": "execute_result"
    }
   ],
   "source": [
    "s.describe()"
   ]
  },
  {
   "cell_type": "code",
   "execution_count": 8,
   "metadata": {},
   "outputs": [],
   "source": [
    "from matplotlib.dates import DateFormatter"
   ]
  },
  {
   "cell_type": "code",
   "execution_count": 9,
   "metadata": {},
   "outputs": [
    {
     "data": {
      "image/png": "[encoded data removed]",
      "text/plain": [
       "<Figure size 576x432 with 1 Axes>"
      ]
     },
     "metadata": {
      "needs_background": "light"
     },
     "output_type": "display_data"
    }
   ],
   "source": [
    "last_50 = s.nlargest(50).groupby(s.dt.date).agg('count')\n",
    "ax = last_50.plot(style='.', rot=45, figsize=(8,6))\n",
    "ax.get_xaxis().set_major_formatter(DateFormatter('%m-%d'))"
   ]
  }
 ],
 "metadata": {
  "kernelspec": {
   "display_name": "Python 3",
   "language": "python",
   "name": "python3"
  },
  "language_info": {
   "codemirror_mode": {
    "name": "ipython",
    "version": 3
   },
   "file_extension": ".py",
   "mimetype": "text/x-python",
   "name": "python",
   "nbconvert_exporter": "python",
   "pygments_lexer": "ipython3",
   "version": "3.7.3"
  }
 },
 "nbformat": 4,
 "nbformat_minor": 2
}
