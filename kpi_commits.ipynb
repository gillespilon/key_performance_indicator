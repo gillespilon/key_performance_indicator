{
 "cells": [
  {
   "cell_type": "markdown",
   "metadata": {},
   "source": [
    "# Git commits"
   ]
  },
  {
   "cell_type": "code",
   "execution_count": null,
   "metadata": {},
   "outputs": [],
   "source": [
    "%matplotlib inline\n",
    "%config InlineBackend.figure_format = 'svg'"
   ]
  },
  {
   "cell_type": "code",
   "execution_count": null,
   "metadata": {},
   "outputs": [],
   "source": [
    "import pandas as pd\n",
    "import subprocess\n",
    "from os import path\n",
    "import matplotlib.cm as cm\n",
    "import matplotlib.axes as axes\n",
    "from dateutil.parser import parse as parsedate"
   ]
  },
  {
   "cell_type": "code",
   "execution_count": null,
   "metadata": {},
   "outputs": [],
   "source": [
    "c1, c2, c3, c4, c5, c6, c7, c8, c9, c10, c11, c12 = cm.Paired.colors\n",
    "# See \"paired\" in \"qualitative colormaps\"\n",
    "# https://matplotlib.org/tutorials/colors/colormaps.html"
   ]
  },
  {
   "cell_type": "code",
   "execution_count": null,
   "metadata": {},
   "outputs": [],
   "source": [
    "to_plot = ['private.gillespilon.ca/fol',\n",
    "           'support.gillespilon.ca/fil/snippets',\n",
    "           'support.gillespilon.ca/fil/key_performance_indicator',\n",
    "           'support.gillespilon.ca/fil/noob',\n",
    "           'support.gillespilon.ca/fil/psa_analysis',\n",
    "           'support.gillespilon.ca/fil/basic_graphics',\n",
    "           'support.gillespilon.ca/fil/basic_statistics',\n",
    "           'support.gillespilon.ca/fil/git_crash_course',\n",
    "           'support.gillespilon.ca/fil/datasense',\n",
    "           'support.gillespilon.ca/fil/scrapers',\n",
    "           'support.gillespilon.ca/fil/learn_python_the_hard_way',\n",
    "           'support.gillespilon.ca/fil/process_analysis',\n",
    "           'support.gillespilon.ca/fil',\n",
    "           'support.gillespilon.ca']"
   ]
  },
  {
   "cell_type": "code",
   "execution_count": null,
   "metadata": {},
   "outputs": [],
   "source": [
    "# Function to remove upper and right graphic borders.\n",
    "def despine(ax: axes.Axes) -> None:\n",
    "    'Remove the top and right spines of a graph'\n",
    "    for spine in 'right', 'top':\n",
    "        ax.spines[spine].set_color('none')"
   ]
  },
  {
   "cell_type": "code",
   "execution_count": null,
   "metadata": {},
   "outputs": [],
   "source": [
    "def git_commits(todo):\n",
    "    history = subprocess.check_output(\n",
    "        ['git', 'log', '--pretty=%aI', '--author=Gilles'], \n",
    "        cwd=path.expanduser(f'~/documents/websites/{todo}'),\n",
    "        universal_newlines=True).splitlines()\n",
    "    dates = list(map(parsedate, history))\n",
    "    print(f'~/documents/websites/{todo}')\n",
    "\n",
    "    df = pd.DataFrame.from_dict({'Date': dates},\n",
    "                                dtype='datetime64[ns]') \\\n",
    "                     .set_index('Date')\n",
    "    df['count'] = 1\n",
    "\n",
    "    commits_daily = df.groupby(df.index.date).count()\n",
    "    commits_daily = commits_daily[-90:]\n",
    "    print(todo, commits_daily.tail())\n",
    "\n",
    "    ax = commits_daily.plot.line(y='count',\n",
    "#                                 figsize=(8, 6),\n",
    "                                 legend=False,\n",
    "                                 style='.',\n",
    "                                 color=c2)\n",
    "    ax.axhline(int(commits_daily['count'].median()), color=c6)\n",
    "    ax.set_ylabel(f'Commits per day for {todo}', fontweight='bold')\n",
    "    ax.set_xlabel('Date', fontweight='bold')\n",
    "    ax.set_title(f'Daily commits for {todo}', fontweight='bold')\n",
    "    despine(ax)\n",
    "    ax.autoscale(enable=True)\n",
    "#    ax.figure.savefig(f'{todo}.svg')"
   ]
  },
  {
   "cell_type": "code",
   "execution_count": null,
   "metadata": {
    "scrolled": false
   },
   "outputs": [],
   "source": [
    "for item in to_plot:\n",
    "    git_commits(item)"
   ]
  }
 ],
 "metadata": {
  "kernelspec": {
   "display_name": "Python 3",
   "language": "python",
   "name": "python3"
  },
  "language_info": {
   "codemirror_mode": {
    "name": "ipython",
    "version": 3
   },
   "file_extension": ".py",
   "mimetype": "text/x-python",
   "name": "python",
   "nbconvert_exporter": "python",
   "pygments_lexer": "ipython3",
   "version": "3.7.3"
  }
 },
 "nbformat": 4,
 "nbformat_minor": 2
}
