{
 "cells": [
  {
   "cell_type": "markdown",
   "metadata": {},
   "source": [
    "# Git commits"
   ]
  },
  {
   "cell_type": "code",
   "execution_count": null,
   "metadata": {},
   "outputs": [],
   "source": [
    "%matplotlib inline\n",
    "%config InlineBackend.figure_format = 'svg'"
   ]
  },
  {
   "cell_type": "code",
   "execution_count": null,
   "metadata": {},
   "outputs": [],
   "source": [
    "import pandas as pd\n",
    "import subprocess\n",
    "from os import path\n",
    "import matplotlib.cm as cm\n",
    "import matplotlib.axes as axes\n",
    "from dateutil.parser import parse as parsedate"
   ]
  },
  {
   "cell_type": "code",
   "execution_count": null,
   "metadata": {},
   "outputs": [],
   "source": [
    "c1, c2, c3, c4, c5, c6, c7, c8, c9, c10, c11, c12 = cm.Paired.colors\n",
    "# See \"paired\" in \"qualitative colormaps\"\n",
    "# https://matplotlib.org/tutorials/colors/colormaps.html"
   ]
  },
  {
   "cell_type": "code",
   "execution_count": null,
   "metadata": {},
   "outputs": [],
   "source": [
    "# Function to remove upper and right graphic borders.\n",
    "def despine(ax: axes.Axes) -> None:\n",
    "    'Remove the top and right spines of a graph'\n",
    "    for spine in 'right', 'top':\n",
    "        ax.spines[spine].set_color('none')"
   ]
  },
  {
   "cell_type": "code",
   "execution_count": null,
   "metadata": {},
   "outputs": [],
   "source": [
    "history = subprocess.check_output(\n",
    "    ['git', 'log', '--pretty=%aI', '--author=Gilles'], \n",
    "    cwd=path.expanduser('~/documents/websites/private.gillespilon.ca/fol/'),\n",
    "    universal_newlines=True).splitlines()"
   ]
  },
  {
   "cell_type": "code",
   "execution_count": null,
   "metadata": {},
   "outputs": [],
   "source": [
    "dates = list(map(parsedate, history))"
   ]
  },
  {
   "cell_type": "code",
   "execution_count": null,
   "metadata": {},
   "outputs": [],
   "source": [
    "df = pd.DataFrame.from_dict({'Date': dates},\n",
    "                            dtype='datetime64[ns]') \\\n",
    "                 .set_index('Date')\n",
    "df['count'] = 1"
   ]
  },
  {
   "cell_type": "code",
   "execution_count": null,
   "metadata": {},
   "outputs": [],
   "source": [
    "commits_daily = df.groupby(df.index.date).count()\n",
    "commits_daily = commits_daily[-90:]\n",
    "commits_daily.tail()"
   ]
  },
  {
   "cell_type": "code",
   "execution_count": null,
   "metadata": {},
   "outputs": [],
   "source": [
    "ax = commits_daily.plot.line(y='count',\n",
    "                             figsize=(9, 6),\n",
    "                             legend=False,\n",
    "                             style='.',\n",
    "                             color=c2)\n",
    "ax.axhline(int(commits_daily['count'].median()), color=c6)\n",
    "ax.set_ylabel('Commits per day for private/fol/', fontweight='bold')\n",
    "ax.set_xlabel('Date', fontweight='bold')\n",
    "ax.set_title('Daily commits for private/', fontweight='bold')\n",
    "despine(ax)\n",
    "ax.autoscale(enable=True)\n",
    "ax.figure.savefig(f'private_fol.svg')"
   ]
  }
 ],
 "metadata": {
  "kernelspec": {
   "display_name": "Python 3",
   "language": "python",
   "name": "python3"
  },
  "language_info": {
   "codemirror_mode": {
    "name": "ipython",
    "version": 3
   },
   "file_extension": ".py",
   "mimetype": "text/x-python",
   "name": "python",
   "nbconvert_exporter": "python",
   "pygments_lexer": "ipython3",
   "version": "3.7.2"
  }
 },
 "nbformat": 4,
 "nbformat_minor": 2
}
